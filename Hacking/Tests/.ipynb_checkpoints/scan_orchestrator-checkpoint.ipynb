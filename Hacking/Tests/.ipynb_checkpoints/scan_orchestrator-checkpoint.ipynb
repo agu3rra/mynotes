{
 "cells": [
  {
   "cell_type": "code",
   "execution_count": 10,
   "metadata": {},
   "outputs": [],
   "source": [
    "import requests"
   ]
  },
  {
   "cell_type": "code",
   "execution_count": 11,
   "metadata": {},
   "outputs": [],
   "source": [
    "# Variables\n",
    "zap_host = \"192.168.200.107\"\n",
    "zap_port = \"8090\"\n",
    "context_file = \"dvwa.context\"\n",
    "policy_file = \"high_thres.policy\"\n",
    "api_key = \"fidelio\"\n",
    "base_url = 'http://{0}:{1}'.format(zap_host, zap_port)"
   ]
  },
  {
   "cell_type": "code",
   "execution_count": 12,
   "metadata": {},
   "outputs": [],
   "source": [
    "def view_all_rules():\n",
    "    endpoint='/JSON/ruleConfig/view/allRuleConfigs/?apikey={0}'.format(api_key)\n",
    "    url = base_url + endpoint\n",
    "    return requests.get(url=url)"
   ]
  },
  {
   "cell_type": "code",
   "execution_count": 13,
   "metadata": {},
   "outputs": [],
   "source": [
    "response = view_all_rules()"
   ]
  },
  {
   "cell_type": "code",
   "execution_count": 14,
   "metadata": {},
   "outputs": [
    {
     "data": {
      "text/plain": [
       "'{\"allRuleConfigs\":[{\"defaultValue\":\"15\",\"description\":\"The length of time in seconds used for timing attacks\",\"value\":\"15\",\"key\":\"rules.common.sleep\"},{\"defaultValue\":\"\",\"description\":\"A comma separated list of URL regex patterns. Any URLs that match the patterns will be considered trusted domains and the issues ignored.\",\"value\":\"\",\"key\":\"rules.domains.trusted\"},{\"defaultValue\":\"\",\"description\":\"A comma separated list of cookie names. Cookies included in this list will be ignored when scanning for cookie related issues.\",\"value\":\"\",\"key\":\"rules.cookie.ignorelist\"},{\"defaultValue\":\"\",\"description\":\"The value of an HTML attribute named by \\'rules.csrf.ignore.attname\\' that can be used to indicate that a form does not need an anti-CSRF Token. If found any related alerts will be raised at INFO level.\",\"value\":\"\",\"key\":\"rules.csrf.ignore.attvalue\"},{\"defaultValue\":\"\",\"description\":\"A comma separated list of identifiers. Any FORMs with a name or ID that matches one of these identifiers will be ignored when scanning for missing anti-CSRF tokens. Only use this feature to ignore FORMs that you know are safe, for example search forms.\",\"value\":\"\",\"key\":\"rules.csrf.ignorelist\"},{\"defaultValue\":\"\",\"description\":\"The name of an HTML attribute that can be used to indicate that a form does not need an anti-CSRF Token. If \\'rules.csrf.ignore.attvalue\\' is specified then this must also match the attribute\\'s value. If found any related alerts will be raised at INFO level. \",\"value\":\"\",\"key\":\"rules.csrf.ignore.attname\"}]}'"
      ]
     },
     "execution_count": 14,
     "metadata": {},
     "output_type": "execute_result"
    }
   ],
   "source": [
    "response.text"
   ]
  },
  {
   "cell_type": "code",
   "execution_count": null,
   "metadata": {},
   "outputs": [],
   "source": []
  }
 ],
 "metadata": {
  "kernelspec": {
   "display_name": "Python 3",
   "language": "python",
   "name": "python3"
  },
  "language_info": {
   "codemirror_mode": {
    "name": "ipython",
    "version": 3
   },
   "file_extension": ".py",
   "mimetype": "text/x-python",
   "name": "python",
   "nbconvert_exporter": "python",
   "pygments_lexer": "ipython3",
   "version": "3.7.2"
  }
 },
 "nbformat": 4,
 "nbformat_minor": 2
}
